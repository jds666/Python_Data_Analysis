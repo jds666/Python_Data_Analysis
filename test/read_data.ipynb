{
 "cells": [
  {
   "cell_type": "code",
   "execution_count": 73,
   "metadata": {
    "collapsed": true
   },
   "outputs": [],
   "source": [
    "from pandas.core.frame import DataFrame\n",
    "import pandas as pd\n",
    "import numpy as np\n",
    "from numpy import *\n",
    "import matplotlib.pyplot as plt\n",
    "import matplotlib.dates as mdates\n",
    "import datetime\n",
    "plt.style.use('ggplot')\n"
   ]
  },
  {
   "cell_type": "markdown",
   "source": [
    "## 读入数据"
   ],
   "metadata": {
    "collapsed": false
   }
  },
  {
   "cell_type": "code",
   "execution_count": 74,
   "outputs": [],
   "source": [
    "\n",
    "def Read_Data():\n",
    "    data = pd.read_csv('D:\\大四材料\\实习\\梅钢\\lz_eige_data\\lz_eige_data.csv' , nrows = 10000000, header = None) # 获取日期数据\n",
    "    return data\n",
    "## 数据共 27736166 行"
   ],
   "metadata": {
    "collapsed": false
   }
  },
  {
   "cell_type": "code",
   "execution_count": 75,
   "outputs": [],
   "source": [
    "def Rename_Columns(data):\n",
    "    ## 重命名索引\n",
    "     data.columns=['id','dev_no','dev_name','point_no','unit_no','ts','temperature','acceleration_peak_x','acceleration_peak_y','acceleration_peak_z','acceleration_rms_x','acceleration_rms_y','acceleration_rms_z','speed_peak_x','speed_peak_y','speed_peak_z','speed_rms_x','speed_rms_y','speed_rms_z','envelop_energy']\n"
   ],
   "metadata": {
    "collapsed": false
   }
  },
  {
   "cell_type": "code",
   "execution_count": 76,
   "outputs": [],
   "source": [
    "data = Read_Data()\n",
    "Rename_Columns(data)"
   ],
   "metadata": {
    "collapsed": false
   }
  },
  {
   "cell_type": "code",
   "execution_count": 77,
   "outputs": [],
   "source": [
    "def Data_Accuracy(data):\n",
    "    ### 无效数据\n",
    "    invalid_ratio = np.mean(data.isna())\n",
    "    print(\"无效数据率:\\n\",invalid_ratio)\n",
    "    O_invalid_ratio = mean(invalid_ratio)\n",
    "    print(\"整体数据无效率: \",O_invalid_ratio)\n",
    "    ### 重复数据\n",
    "    duplicate_ratio = np.sum(data.duplicated())\n",
    "    print(\"重复数据量:\\n\",duplicate_ratio)\n"
   ],
   "metadata": {
    "collapsed": false
   }
  },
  {
   "cell_type": "code",
   "execution_count": 78,
   "outputs": [
    {
     "name": "stdout",
     "output_type": "stream",
     "text": [
      "读入完成。。。\n"
     ]
    },
    {
     "data": {
      "text/plain": "               id     dev_no     dev_name            point_no unit_no  \\\n9490264  17164580  451205M01     2#开卷机减速箱     50294D205120031    C117   \n1692338   9366654  452143E01   8#张力辊1#辊电机  321ce4feff8d79e0-S    C108   \n1228678   8902994  450139E01     3#活套1#电机  671ee4feff8d79e0-S    C102   \n6993653  14667969  452102M03     开卷机减速箱1#     50294D208483011    C108   \n8253081  15927397  452135M05  平整机支撑辊减速箱1#     50294D205050032    C108   \n1778748   9453064  452148M02   9BR 1# 减速箱  c82ce4feff8d79e0-S    C108   \n7366770  15041086  452235M06  平整机支撑辊减速箱1#     50294D205090011    C208   \n9828697  17503013  451247M03     2#卷取机减速箱     50294D205134014    C117   \n9829505  17503821  452251M04     卷取机减速箱1#     50294D208438031    C208   \n6638339  14312655  451102E01      1#开卷机电机     50294D205130041    C112   \n\n                   ts  temperature  acceleration_peak_x  acceleration_peak_y  \\\n9490264  1.676196e+12    19.829277                  NaN                  NaN   \n1692338  1.675584e+12    15.937500                  NaN                  NaN   \n1228678  1.675441e+12     8.500000                  NaN                  NaN   \n6993653  1.676022e+12          NaN             3.375289                  NaN   \n8253081  1.676110e+12    20.297274                  NaN                  NaN   \n1778748  1.675610e+12    20.625000                  NaN                  NaN   \n7366770  1.676048e+12          NaN             2.367046                  NaN   \n9828697  1.676219e+12          NaN             9.766932                  NaN   \n9829505  1.676220e+12    17.464865                  NaN                  NaN   \n6638339  1.675998e+12    20.484507                  NaN                  NaN   \n\n         acceleration_peak_z  acceleration_rms_x  acceleration_rms_y  \\\n9490264                  NaN                 NaN                 NaN   \n1692338                  NaN                 NaN                 NaN   \n1228678                  NaN                 NaN                 NaN   \n6993653                  NaN            0.287203                 NaN   \n8253081                  NaN                 NaN                 NaN   \n1778748                  NaN                 NaN                 NaN   \n7366770                  NaN            0.998639                 NaN   \n9828697                  NaN            0.370226                 NaN   \n9829505                  NaN                 NaN                 NaN   \n6638339                  NaN                 NaN                 NaN   \n\n         acceleration_rms_z  speed_peak_x  speed_peak_y  speed_peak_z  \\\n9490264                 NaN           NaN           NaN           NaN   \n1692338                 NaN           NaN           NaN           NaN   \n1228678                 NaN           NaN           NaN           NaN   \n6993653                 NaN      1.133189           NaN           NaN   \n8253081                 NaN           NaN           NaN           NaN   \n1778748                 NaN           NaN           NaN           NaN   \n7366770                 NaN      2.279352           NaN           NaN   \n9828697                 NaN      3.681113           NaN           NaN   \n9829505                 NaN           NaN           NaN           NaN   \n6638339                 NaN           NaN           NaN           NaN   \n\n         speed_rms_x  speed_rms_y  speed_rms_z  envelop_energy  \n9490264          NaN          NaN          NaN             NaN  \n1692338          NaN          NaN          NaN             NaN  \n1228678          NaN          NaN          NaN             NaN  \n6993653     0.253846          NaN          NaN             NaN  \n8253081          NaN          NaN          NaN             NaN  \n1778748          NaN          NaN          NaN             NaN  \n7366770     0.490161          NaN          NaN             NaN  \n9828697     0.767147          NaN          NaN             NaN  \n9829505          NaN          NaN          NaN             NaN  \n6638339          NaN          NaN          NaN             NaN  ",
      "text/html": "<div>\n<style scoped>\n    .dataframe tbody tr th:only-of-type {\n        vertical-align: middle;\n    }\n\n    .dataframe tbody tr th {\n        vertical-align: top;\n    }\n\n    .dataframe thead th {\n        text-align: right;\n    }\n</style>\n<table border=\"1\" class=\"dataframe\">\n  <thead>\n    <tr style=\"text-align: right;\">\n      <th></th>\n      <th>id</th>\n      <th>dev_no</th>\n      <th>dev_name</th>\n      <th>point_no</th>\n      <th>unit_no</th>\n      <th>ts</th>\n      <th>temperature</th>\n      <th>acceleration_peak_x</th>\n      <th>acceleration_peak_y</th>\n      <th>acceleration_peak_z</th>\n      <th>acceleration_rms_x</th>\n      <th>acceleration_rms_y</th>\n      <th>acceleration_rms_z</th>\n      <th>speed_peak_x</th>\n      <th>speed_peak_y</th>\n      <th>speed_peak_z</th>\n      <th>speed_rms_x</th>\n      <th>speed_rms_y</th>\n      <th>speed_rms_z</th>\n      <th>envelop_energy</th>\n    </tr>\n  </thead>\n  <tbody>\n    <tr>\n      <th>9490264</th>\n      <td>17164580</td>\n      <td>451205M01</td>\n      <td>2#开卷机减速箱</td>\n      <td>50294D205120031</td>\n      <td>C117</td>\n      <td>1.676196e+12</td>\n      <td>19.829277</td>\n      <td>NaN</td>\n      <td>NaN</td>\n      <td>NaN</td>\n      <td>NaN</td>\n      <td>NaN</td>\n      <td>NaN</td>\n      <td>NaN</td>\n      <td>NaN</td>\n      <td>NaN</td>\n      <td>NaN</td>\n      <td>NaN</td>\n      <td>NaN</td>\n      <td>NaN</td>\n    </tr>\n    <tr>\n      <th>1692338</th>\n      <td>9366654</td>\n      <td>452143E01</td>\n      <td>8#张力辊1#辊电机</td>\n      <td>321ce4feff8d79e0-S</td>\n      <td>C108</td>\n      <td>1.675584e+12</td>\n      <td>15.937500</td>\n      <td>NaN</td>\n      <td>NaN</td>\n      <td>NaN</td>\n      <td>NaN</td>\n      <td>NaN</td>\n      <td>NaN</td>\n      <td>NaN</td>\n      <td>NaN</td>\n      <td>NaN</td>\n      <td>NaN</td>\n      <td>NaN</td>\n      <td>NaN</td>\n      <td>NaN</td>\n    </tr>\n    <tr>\n      <th>1228678</th>\n      <td>8902994</td>\n      <td>450139E01</td>\n      <td>3#活套1#电机</td>\n      <td>671ee4feff8d79e0-S</td>\n      <td>C102</td>\n      <td>1.675441e+12</td>\n      <td>8.500000</td>\n      <td>NaN</td>\n      <td>NaN</td>\n      <td>NaN</td>\n      <td>NaN</td>\n      <td>NaN</td>\n      <td>NaN</td>\n      <td>NaN</td>\n      <td>NaN</td>\n      <td>NaN</td>\n      <td>NaN</td>\n      <td>NaN</td>\n      <td>NaN</td>\n      <td>NaN</td>\n    </tr>\n    <tr>\n      <th>6993653</th>\n      <td>14667969</td>\n      <td>452102M03</td>\n      <td>开卷机减速箱1#</td>\n      <td>50294D208483011</td>\n      <td>C108</td>\n      <td>1.676022e+12</td>\n      <td>NaN</td>\n      <td>3.375289</td>\n      <td>NaN</td>\n      <td>NaN</td>\n      <td>0.287203</td>\n      <td>NaN</td>\n      <td>NaN</td>\n      <td>1.133189</td>\n      <td>NaN</td>\n      <td>NaN</td>\n      <td>0.253846</td>\n      <td>NaN</td>\n      <td>NaN</td>\n      <td>NaN</td>\n    </tr>\n    <tr>\n      <th>8253081</th>\n      <td>15927397</td>\n      <td>452135M05</td>\n      <td>平整机支撑辊减速箱1#</td>\n      <td>50294D205050032</td>\n      <td>C108</td>\n      <td>1.676110e+12</td>\n      <td>20.297274</td>\n      <td>NaN</td>\n      <td>NaN</td>\n      <td>NaN</td>\n      <td>NaN</td>\n      <td>NaN</td>\n      <td>NaN</td>\n      <td>NaN</td>\n      <td>NaN</td>\n      <td>NaN</td>\n      <td>NaN</td>\n      <td>NaN</td>\n      <td>NaN</td>\n      <td>NaN</td>\n    </tr>\n    <tr>\n      <th>1778748</th>\n      <td>9453064</td>\n      <td>452148M02</td>\n      <td>9BR 1# 减速箱</td>\n      <td>c82ce4feff8d79e0-S</td>\n      <td>C108</td>\n      <td>1.675610e+12</td>\n      <td>20.625000</td>\n      <td>NaN</td>\n      <td>NaN</td>\n      <td>NaN</td>\n      <td>NaN</td>\n      <td>NaN</td>\n      <td>NaN</td>\n      <td>NaN</td>\n      <td>NaN</td>\n      <td>NaN</td>\n      <td>NaN</td>\n      <td>NaN</td>\n      <td>NaN</td>\n      <td>NaN</td>\n    </tr>\n    <tr>\n      <th>7366770</th>\n      <td>15041086</td>\n      <td>452235M06</td>\n      <td>平整机支撑辊减速箱1#</td>\n      <td>50294D205090011</td>\n      <td>C208</td>\n      <td>1.676048e+12</td>\n      <td>NaN</td>\n      <td>2.367046</td>\n      <td>NaN</td>\n      <td>NaN</td>\n      <td>0.998639</td>\n      <td>NaN</td>\n      <td>NaN</td>\n      <td>2.279352</td>\n      <td>NaN</td>\n      <td>NaN</td>\n      <td>0.490161</td>\n      <td>NaN</td>\n      <td>NaN</td>\n      <td>NaN</td>\n    </tr>\n    <tr>\n      <th>9828697</th>\n      <td>17503013</td>\n      <td>451247M03</td>\n      <td>2#卷取机减速箱</td>\n      <td>50294D205134014</td>\n      <td>C117</td>\n      <td>1.676219e+12</td>\n      <td>NaN</td>\n      <td>9.766932</td>\n      <td>NaN</td>\n      <td>NaN</td>\n      <td>0.370226</td>\n      <td>NaN</td>\n      <td>NaN</td>\n      <td>3.681113</td>\n      <td>NaN</td>\n      <td>NaN</td>\n      <td>0.767147</td>\n      <td>NaN</td>\n      <td>NaN</td>\n      <td>NaN</td>\n    </tr>\n    <tr>\n      <th>9829505</th>\n      <td>17503821</td>\n      <td>452251M04</td>\n      <td>卷取机减速箱1#</td>\n      <td>50294D208438031</td>\n      <td>C208</td>\n      <td>1.676220e+12</td>\n      <td>17.464865</td>\n      <td>NaN</td>\n      <td>NaN</td>\n      <td>NaN</td>\n      <td>NaN</td>\n      <td>NaN</td>\n      <td>NaN</td>\n      <td>NaN</td>\n      <td>NaN</td>\n      <td>NaN</td>\n      <td>NaN</td>\n      <td>NaN</td>\n      <td>NaN</td>\n      <td>NaN</td>\n    </tr>\n    <tr>\n      <th>6638339</th>\n      <td>14312655</td>\n      <td>451102E01</td>\n      <td>1#开卷机电机</td>\n      <td>50294D205130041</td>\n      <td>C112</td>\n      <td>1.675998e+12</td>\n      <td>20.484507</td>\n      <td>NaN</td>\n      <td>NaN</td>\n      <td>NaN</td>\n      <td>NaN</td>\n      <td>NaN</td>\n      <td>NaN</td>\n      <td>NaN</td>\n      <td>NaN</td>\n      <td>NaN</td>\n      <td>NaN</td>\n      <td>NaN</td>\n      <td>NaN</td>\n      <td>NaN</td>\n    </tr>\n  </tbody>\n</table>\n</div>"
     },
     "execution_count": 78,
     "metadata": {},
     "output_type": "execute_result"
    }
   ],
   "source": [
    "print(\"读入完成。。。\")\n",
    "data.sample(10)"
   ],
   "metadata": {
    "collapsed": false
   }
  },
  {
   "cell_type": "markdown",
   "source": [
    "## 时间戳转换"
   ],
   "metadata": {
    "collapsed": false
   }
  },
  {
   "cell_type": "code",
   "execution_count": 79,
   "outputs": [
    {
     "name": "stdout",
     "output_type": "stream",
     "text": [
      "10000000\n",
      "9999196\n"
     ]
    }
   ],
   "source": [
    "# 去除所有ts是NAN的行\n",
    "print(data.shape[0])\n",
    "data.dropna(axis=0,subset=['ts'],inplace=True)\n",
    "print(data.shape[0])"
   ],
   "metadata": {
    "collapsed": false
   }
  },
  {
   "cell_type": "code",
   "execution_count": 80,
   "outputs": [
    {
     "name": "stdout",
     "output_type": "stream",
     "text": [
      "float64\n",
      "object\n"
     ]
    }
   ],
   "source": [
    "## 时间戳转为时间序列\n",
    "print( data['ts'].dtype)\n",
    "data['ts'] = data['ts'].apply(lambda d: datetime.datetime.fromtimestamp(int(d)/1000).strftime('%Y-%m-%d %H:%M:%S'))\n",
    "print(data['ts'].dtype)\n",
    "# data['ts'] = pd.to_datetime(data['ts'])\n"
   ],
   "metadata": {
    "collapsed": false
   }
  },
  {
   "cell_type": "code",
   "execution_count": 108,
   "outputs": [
    {
     "data": {
      "text/plain": "4219307   2023-02-08 11:40:50\n2544316   2023-02-07 03:00:41\n9843993   2023-02-13 00:49:36\n4899338   2023-02-09 00:57:40\n5850538   2023-02-09 19:30:38\n9438374   2023-02-12 16:59:18\n2394263   2023-02-07 00:05:30\n6730886   2023-02-10 12:40:33\n7619667   2023-02-11 05:50:43\n1568396   2023-02-05 05:17:04\nName: ts, dtype: datetime64[ns]"
     },
     "execution_count": 108,
     "metadata": {},
     "output_type": "execute_result"
    }
   ],
   "source": [
    "data['ts'] = pd.to_datetime(data['ts'])\n",
    "data['ts'].sample(10)"
   ],
   "metadata": {
    "collapsed": false
   }
  },
  {
   "cell_type": "code",
   "execution_count": 109,
   "outputs": [
    {
     "name": "stderr",
     "output_type": "stream",
     "text": [
      "D:\\Anaconda\\anaconda\\envs\\data\\lib\\site-packages\\numpy\\core\\fromnumeric.py:3430: FutureWarning: In a future version, DataFrame.mean(axis=None) will return a scalar mean over the entire DataFrame. To retain the old behavior, use 'frame.mean(axis=0)' or just 'frame.mean()'\n",
      "  return mean(axis=axis, dtype=dtype, out=out, **kwargs)\n"
     ]
    },
    {
     "name": "stdout",
     "output_type": "stream",
     "text": [
      "无效数据率:\n",
      " id                     0.000000\n",
      "dev_no                 0.000000\n",
      "dev_name               0.000000\n",
      "point_no               0.000000\n",
      "unit_no                0.000000\n",
      "ts                     0.000000\n",
      "temperature            0.663111\n",
      "acceleration_peak_x    0.336889\n",
      "acceleration_peak_y    0.869157\n",
      "acceleration_peak_z    0.869157\n",
      "acceleration_rms_x     0.336889\n",
      "acceleration_rms_y     0.869157\n",
      "acceleration_rms_z     0.869157\n",
      "speed_peak_x           0.336889\n",
      "speed_peak_y           0.869157\n",
      "speed_peak_z           0.869157\n",
      "speed_rms_x            0.336889\n",
      "speed_rms_y            0.869157\n",
      "speed_rms_z            0.869157\n",
      "envelop_energy         0.869157\n",
      "dtype: float64\n",
      "整体数据无效率:  0.491653988980714\n",
      "重复数据量:\n",
      " 0\n"
     ]
    }
   ],
   "source": [
    "## 缺失值检查\n",
    "## 一定没有ts缺失，因为缺失已经被删了\n",
    "Data_Accuracy(data)"
   ],
   "metadata": {
    "collapsed": false
   }
  },
  {
   "cell_type": "code",
   "execution_count": 110,
   "outputs": [
    {
     "data": {
      "text/plain": "               id     dev_no   dev_name         point_no unit_no  \\\n9999990  17674306  450209M13    2机架大齿轮箱  50294D205171014    C102   \n9999991  17674307  450209M13    2机架大齿轮箱  50294D205171021    C102   \n9999992  17674308  450209M13    2机架大齿轮箱  50294D205171022    C102   \n9999993  17674309  450209M13    2机架大齿轮箱  50294D205171024    C102   \n9999994  17674310  450210E01  3#机架主传动电机  50294D205171031    C102   \n9999995  17674311  450210E01  3#机架主传动电机  50294D205171032    C102   \n9999996  17674312  450210E01  3#机架主传动电机  50294D205171033    C102   \n9999997  17674313  450210E01  3#机架主传动电机  50294D205171034    C102   \n9999998  17674314  450209M13    2机架大齿轮箱  50294D205171011    C102   \n9999999  17674315  450209M13    2机架大齿轮箱  50294D205171012    C102   \n\n                         ts  temperature  acceleration_peak_x  \\\n9999990 2023-02-13 03:51:04          NaN             6.437369   \n9999991 2023-02-13 03:51:04          NaN             6.459533   \n9999992 2023-02-13 03:51:04          NaN             3.585156   \n9999993 2023-02-13 03:51:04          NaN             3.243976   \n9999994 2023-02-13 03:51:04          NaN             6.245926   \n9999995 2023-02-13 03:51:04          NaN             8.174423   \n9999996 2023-02-13 03:51:04          NaN             7.044190   \n9999997 2023-02-13 03:51:04          NaN             8.844166   \n9999998 2023-02-13 03:51:04          NaN             9.195675   \n9999999 2023-02-13 03:51:04          NaN             6.883454   \n\n         acceleration_peak_y  acceleration_peak_z  acceleration_rms_x  \\\n9999990                  NaN                  NaN            0.483647   \n9999991                  NaN                  NaN            0.521980   \n9999992                  NaN                  NaN            0.292849   \n9999993                  NaN                  NaN            0.277018   \n9999994                  NaN                  NaN            0.485028   \n9999995                  NaN                  NaN            0.606266   \n9999996                  NaN                  NaN            0.593633   \n9999997                  NaN                  NaN            0.615582   \n9999998                  NaN                  NaN            0.700421   \n9999999                  NaN                  NaN            0.521546   \n\n         acceleration_rms_y  acceleration_rms_z  speed_peak_x  speed_peak_y  \\\n9999990                 NaN                 NaN      4.354996           NaN   \n9999991                 NaN                 NaN      3.797517           NaN   \n9999992                 NaN                 NaN      3.156592           NaN   \n9999993                 NaN                 NaN      2.760747           NaN   \n9999994                 NaN                 NaN      4.093787           NaN   \n9999995                 NaN                 NaN      5.548491           NaN   \n9999996                 NaN                 NaN      2.732698           NaN   \n9999997                 NaN                 NaN      3.589953           NaN   \n9999998                 NaN                 NaN      6.898361           NaN   \n9999999                 NaN                 NaN      4.008237           NaN   \n\n         speed_peak_z  speed_rms_x  speed_rms_y  speed_rms_z  envelop_energy  \n9999990           NaN     1.348467          NaN          NaN             NaN  \n9999991           NaN     1.055353          NaN          NaN             NaN  \n9999992           NaN     0.904588          NaN          NaN             NaN  \n9999993           NaN     0.995047          NaN          NaN             NaN  \n9999994           NaN     1.619844          NaN          NaN             NaN  \n9999995           NaN     2.218695          NaN          NaN             NaN  \n9999996           NaN     0.857606          NaN          NaN             NaN  \n9999997           NaN     1.093219          NaN          NaN             NaN  \n9999998           NaN     2.700441          NaN          NaN             NaN  \n9999999           NaN     1.597405          NaN          NaN             NaN  ",
      "text/html": "<div>\n<style scoped>\n    .dataframe tbody tr th:only-of-type {\n        vertical-align: middle;\n    }\n\n    .dataframe tbody tr th {\n        vertical-align: top;\n    }\n\n    .dataframe thead th {\n        text-align: right;\n    }\n</style>\n<table border=\"1\" class=\"dataframe\">\n  <thead>\n    <tr style=\"text-align: right;\">\n      <th></th>\n      <th>id</th>\n      <th>dev_no</th>\n      <th>dev_name</th>\n      <th>point_no</th>\n      <th>unit_no</th>\n      <th>ts</th>\n      <th>temperature</th>\n      <th>acceleration_peak_x</th>\n      <th>acceleration_peak_y</th>\n      <th>acceleration_peak_z</th>\n      <th>acceleration_rms_x</th>\n      <th>acceleration_rms_y</th>\n      <th>acceleration_rms_z</th>\n      <th>speed_peak_x</th>\n      <th>speed_peak_y</th>\n      <th>speed_peak_z</th>\n      <th>speed_rms_x</th>\n      <th>speed_rms_y</th>\n      <th>speed_rms_z</th>\n      <th>envelop_energy</th>\n    </tr>\n  </thead>\n  <tbody>\n    <tr>\n      <th>9999990</th>\n      <td>17674306</td>\n      <td>450209M13</td>\n      <td>2机架大齿轮箱</td>\n      <td>50294D205171014</td>\n      <td>C102</td>\n      <td>2023-02-13 03:51:04</td>\n      <td>NaN</td>\n      <td>6.437369</td>\n      <td>NaN</td>\n      <td>NaN</td>\n      <td>0.483647</td>\n      <td>NaN</td>\n      <td>NaN</td>\n      <td>4.354996</td>\n      <td>NaN</td>\n      <td>NaN</td>\n      <td>1.348467</td>\n      <td>NaN</td>\n      <td>NaN</td>\n      <td>NaN</td>\n    </tr>\n    <tr>\n      <th>9999991</th>\n      <td>17674307</td>\n      <td>450209M13</td>\n      <td>2机架大齿轮箱</td>\n      <td>50294D205171021</td>\n      <td>C102</td>\n      <td>2023-02-13 03:51:04</td>\n      <td>NaN</td>\n      <td>6.459533</td>\n      <td>NaN</td>\n      <td>NaN</td>\n      <td>0.521980</td>\n      <td>NaN</td>\n      <td>NaN</td>\n      <td>3.797517</td>\n      <td>NaN</td>\n      <td>NaN</td>\n      <td>1.055353</td>\n      <td>NaN</td>\n      <td>NaN</td>\n      <td>NaN</td>\n    </tr>\n    <tr>\n      <th>9999992</th>\n      <td>17674308</td>\n      <td>450209M13</td>\n      <td>2机架大齿轮箱</td>\n      <td>50294D205171022</td>\n      <td>C102</td>\n      <td>2023-02-13 03:51:04</td>\n      <td>NaN</td>\n      <td>3.585156</td>\n      <td>NaN</td>\n      <td>NaN</td>\n      <td>0.292849</td>\n      <td>NaN</td>\n      <td>NaN</td>\n      <td>3.156592</td>\n      <td>NaN</td>\n      <td>NaN</td>\n      <td>0.904588</td>\n      <td>NaN</td>\n      <td>NaN</td>\n      <td>NaN</td>\n    </tr>\n    <tr>\n      <th>9999993</th>\n      <td>17674309</td>\n      <td>450209M13</td>\n      <td>2机架大齿轮箱</td>\n      <td>50294D205171024</td>\n      <td>C102</td>\n      <td>2023-02-13 03:51:04</td>\n      <td>NaN</td>\n      <td>3.243976</td>\n      <td>NaN</td>\n      <td>NaN</td>\n      <td>0.277018</td>\n      <td>NaN</td>\n      <td>NaN</td>\n      <td>2.760747</td>\n      <td>NaN</td>\n      <td>NaN</td>\n      <td>0.995047</td>\n      <td>NaN</td>\n      <td>NaN</td>\n      <td>NaN</td>\n    </tr>\n    <tr>\n      <th>9999994</th>\n      <td>17674310</td>\n      <td>450210E01</td>\n      <td>3#机架主传动电机</td>\n      <td>50294D205171031</td>\n      <td>C102</td>\n      <td>2023-02-13 03:51:04</td>\n      <td>NaN</td>\n      <td>6.245926</td>\n      <td>NaN</td>\n      <td>NaN</td>\n      <td>0.485028</td>\n      <td>NaN</td>\n      <td>NaN</td>\n      <td>4.093787</td>\n      <td>NaN</td>\n      <td>NaN</td>\n      <td>1.619844</td>\n      <td>NaN</td>\n      <td>NaN</td>\n      <td>NaN</td>\n    </tr>\n    <tr>\n      <th>9999995</th>\n      <td>17674311</td>\n      <td>450210E01</td>\n      <td>3#机架主传动电机</td>\n      <td>50294D205171032</td>\n      <td>C102</td>\n      <td>2023-02-13 03:51:04</td>\n      <td>NaN</td>\n      <td>8.174423</td>\n      <td>NaN</td>\n      <td>NaN</td>\n      <td>0.606266</td>\n      <td>NaN</td>\n      <td>NaN</td>\n      <td>5.548491</td>\n      <td>NaN</td>\n      <td>NaN</td>\n      <td>2.218695</td>\n      <td>NaN</td>\n      <td>NaN</td>\n      <td>NaN</td>\n    </tr>\n    <tr>\n      <th>9999996</th>\n      <td>17674312</td>\n      <td>450210E01</td>\n      <td>3#机架主传动电机</td>\n      <td>50294D205171033</td>\n      <td>C102</td>\n      <td>2023-02-13 03:51:04</td>\n      <td>NaN</td>\n      <td>7.044190</td>\n      <td>NaN</td>\n      <td>NaN</td>\n      <td>0.593633</td>\n      <td>NaN</td>\n      <td>NaN</td>\n      <td>2.732698</td>\n      <td>NaN</td>\n      <td>NaN</td>\n      <td>0.857606</td>\n      <td>NaN</td>\n      <td>NaN</td>\n      <td>NaN</td>\n    </tr>\n    <tr>\n      <th>9999997</th>\n      <td>17674313</td>\n      <td>450210E01</td>\n      <td>3#机架主传动电机</td>\n      <td>50294D205171034</td>\n      <td>C102</td>\n      <td>2023-02-13 03:51:04</td>\n      <td>NaN</td>\n      <td>8.844166</td>\n      <td>NaN</td>\n      <td>NaN</td>\n      <td>0.615582</td>\n      <td>NaN</td>\n      <td>NaN</td>\n      <td>3.589953</td>\n      <td>NaN</td>\n      <td>NaN</td>\n      <td>1.093219</td>\n      <td>NaN</td>\n      <td>NaN</td>\n      <td>NaN</td>\n    </tr>\n    <tr>\n      <th>9999998</th>\n      <td>17674314</td>\n      <td>450209M13</td>\n      <td>2机架大齿轮箱</td>\n      <td>50294D205171011</td>\n      <td>C102</td>\n      <td>2023-02-13 03:51:04</td>\n      <td>NaN</td>\n      <td>9.195675</td>\n      <td>NaN</td>\n      <td>NaN</td>\n      <td>0.700421</td>\n      <td>NaN</td>\n      <td>NaN</td>\n      <td>6.898361</td>\n      <td>NaN</td>\n      <td>NaN</td>\n      <td>2.700441</td>\n      <td>NaN</td>\n      <td>NaN</td>\n      <td>NaN</td>\n    </tr>\n    <tr>\n      <th>9999999</th>\n      <td>17674315</td>\n      <td>450209M13</td>\n      <td>2机架大齿轮箱</td>\n      <td>50294D205171012</td>\n      <td>C102</td>\n      <td>2023-02-13 03:51:04</td>\n      <td>NaN</td>\n      <td>6.883454</td>\n      <td>NaN</td>\n      <td>NaN</td>\n      <td>0.521546</td>\n      <td>NaN</td>\n      <td>NaN</td>\n      <td>4.008237</td>\n      <td>NaN</td>\n      <td>NaN</td>\n      <td>1.597405</td>\n      <td>NaN</td>\n      <td>NaN</td>\n      <td>NaN</td>\n    </tr>\n  </tbody>\n</table>\n</div>"
     },
     "execution_count": 110,
     "metadata": {},
     "output_type": "execute_result"
    }
   ],
   "source": [
    "data.tail(10)"
   ],
   "metadata": {
    "collapsed": false
   }
  },
  {
   "cell_type": "code",
   "execution_count": 111,
   "outputs": [
    {
     "data": {
      "text/plain": "Empty DataFrame\nColumns: [id, dev_no, dev_name, point_no, unit_no, ts, temperature, acceleration_peak_x, acceleration_peak_y, acceleration_peak_z, acceleration_rms_x, acceleration_rms_y, acceleration_rms_z, speed_peak_x, speed_peak_y, speed_peak_z, speed_rms_x, speed_rms_y, speed_rms_z, envelop_energy]\nIndex: []",
      "text/html": "<div>\n<style scoped>\n    .dataframe tbody tr th:only-of-type {\n        vertical-align: middle;\n    }\n\n    .dataframe tbody tr th {\n        vertical-align: top;\n    }\n\n    .dataframe thead th {\n        text-align: right;\n    }\n</style>\n<table border=\"1\" class=\"dataframe\">\n  <thead>\n    <tr style=\"text-align: right;\">\n      <th></th>\n      <th>id</th>\n      <th>dev_no</th>\n      <th>dev_name</th>\n      <th>point_no</th>\n      <th>unit_no</th>\n      <th>ts</th>\n      <th>temperature</th>\n      <th>acceleration_peak_x</th>\n      <th>acceleration_peak_y</th>\n      <th>acceleration_peak_z</th>\n      <th>acceleration_rms_x</th>\n      <th>acceleration_rms_y</th>\n      <th>acceleration_rms_z</th>\n      <th>speed_peak_x</th>\n      <th>speed_peak_y</th>\n      <th>speed_peak_z</th>\n      <th>speed_rms_x</th>\n      <th>speed_rms_y</th>\n      <th>speed_rms_z</th>\n      <th>envelop_energy</th>\n    </tr>\n  </thead>\n  <tbody>\n  </tbody>\n</table>\n</div>"
     },
     "execution_count": 111,
     "metadata": {},
     "output_type": "execute_result"
    }
   ],
   "source": [
    "### 数据重复值检查\n",
    "data[data.duplicated()]"
   ],
   "metadata": {
    "collapsed": false
   }
  },
  {
   "cell_type": "code",
   "execution_count": 112,
   "outputs": [
    {
     "data": {
      "text/plain": "0"
     },
     "execution_count": 112,
     "metadata": {},
     "output_type": "execute_result"
    }
   ],
   "source": [
    "data.duplicated().sum()"
   ],
   "metadata": {
    "collapsed": false
   }
  },
  {
   "cell_type": "code",
   "execution_count": 113,
   "outputs": [
    {
     "name": "stdout",
     "output_type": "stream",
     "text": [
      "3368616\n"
     ]
    }
   ],
   "source": [
    "# T = data.temperature.notnull().index\n",
    "# T = np.nonzero(data.temperature)\n",
    "T = set(data[data['temperature'].notnull()==True].index)\n",
    "X = set(data[data['acceleration_peak_x'].notnull()==True].index)\n",
    "ZY = set(data[data['acceleration_peak_y'].notnull()==True].index)\n",
    "# print(len(T),len(X),len(ZY))\n",
    "print(len(T))"
   ],
   "metadata": {
    "collapsed": false
   }
  },
  {
   "cell_type": "markdown",
   "source": [
    "## 数据分组"
   ],
   "metadata": {
    "collapsed": false
   }
  },
  {
   "cell_type": "code",
   "execution_count": 114,
   "outputs": [
    {
     "name": "stdout",
     "output_type": "stream",
     "text": [
      "一共包含   988   point_no_groups\n"
     ]
    }
   ],
   "source": [
    "# 按point_no分组\n",
    "point_no_groups = data.groupby(['point_no'])\n",
    "print(\"一共包含  \",len(point_no_groups),\"  point_no_groups\")"
   ],
   "metadata": {
    "collapsed": false
   }
  },
  {
   "cell_type": "code",
   "execution_count": 115,
   "outputs": [
    {
     "name": "stdout",
     "output_type": "stream",
     "text": [
      "一共包含   153   dev_no_groups\n"
     ]
    }
   ],
   "source": [
    "#  按 dev_no 分组\n",
    "dev_no_groups = data.groupby(['dev_no'])\n",
    "print(\"一共包含  \",len(dev_no_groups),\"  dev_no_groups\")"
   ],
   "metadata": {
    "collapsed": false
   }
  },
  {
   "cell_type": "code",
   "execution_count": 116,
   "outputs": [
    {
     "name": "stdout",
     "output_type": "stream",
     "text": [
      "一共包含   988   dev_point_no_groups\n"
     ]
    }
   ],
   "source": [
    "#  按dev_no + point_no分组\n",
    "dev_point_no_groups = data.groupby(['dev_no','point_no'])\n",
    "print(\"一共包含  \",len(dev_point_no_groups),\"  dev_point_no_groups\")\n",
    "\n",
    "##说明 point_no 可以唯一确定一条数据"
   ],
   "metadata": {
    "collapsed": false
   }
  },
  {
   "cell_type": "markdown",
   "source": [
    "# 以temperature为例"
   ],
   "metadata": {
    "collapsed": false
   }
  },
  {
   "cell_type": "code",
   "execution_count": 117,
   "outputs": [
    {
     "name": "stderr",
     "output_type": "stream",
     "text": [
      "C:\\Users\\JDD\\AppData\\Local\\Temp\\ipykernel_18148\\3766927364.py:2: FutureWarning: Passing a set as an indexer is deprecated and will raise in a future version. Use a list instead.\n",
      "  Temp = data[{'point_no','ts','temperature'}]\n"
     ]
    }
   ],
   "source": [
    "## 提取temperature、X\n",
    "Temp = data[{'point_no','ts','temperature'}]"
   ],
   "metadata": {
    "collapsed": false
   }
  },
  {
   "cell_type": "code",
   "execution_count": 118,
   "outputs": [
    {
     "name": "stdout",
     "output_type": "stream",
     "text": [
      "一共包含   494   Temp_point_no_groups\n"
     ]
    }
   ],
   "source": [
    "Temp = Temp.dropna() ## 去除NAN值\n",
    "Temp_point_no_groups = Temp.groupby(['point_no'])\n",
    "print(\"一共包含  \",len(Temp_point_no_groups),\"  Temp_point_no_groups\")"
   ],
   "metadata": {
    "collapsed": false
   }
  },
  {
   "cell_type": "markdown",
   "source": [
    "## 分析数据平均值、方差"
   ],
   "metadata": {
    "collapsed": false
   }
  },
  {
   "cell_type": "code",
   "execution_count": 119,
   "outputs": [
    {
     "name": "stdout",
     "output_type": "stream",
     "text": [
      "                    temperature\n",
      "point_no                       \n",
      "001de4feff8d79e0-S    11.550120\n",
      "01c476feff958edc-S    14.458903\n",
      "021de4feff8d79e0-S    14.957307\n",
      "02b6cffeff8d79e0-S    18.350017\n",
      "0338e4feff8d79e0-S    12.297060\n",
      "...                         ...\n",
      "ff19e4feff8d79e0-S    27.237340\n",
      "ff48e2feff8d79e0-S    20.819036\n",
      "ff5ae2feff8d79e0-S    24.999747\n",
      "ffbdcffeff8d79e0-S    19.395167\n",
      "ffc476feff958edc-S    24.568959\n",
      "\n",
      "[494 rows x 1 columns]\n"
     ]
    },
    {
     "name": "stderr",
     "output_type": "stream",
     "text": [
      "C:\\Users\\JDD\\AppData\\Local\\Temp\\ipykernel_18148\\1598978151.py:2: FutureWarning: The default value of numeric_only in DataFrameGroupBy.mean is deprecated. In a future version, numeric_only will default to False. Either specify numeric_only or select only columns which should be valid for the function.\n",
      "  Temp_point_no_groups_m = Temp_point_no_groups.mean()\n"
     ]
    }
   ],
   "source": [
    "## 每组平均值\n",
    "Temp_point_no_groups_m = Temp_point_no_groups.mean()\n",
    "print(Temp_point_no_groups_m)"
   ],
   "metadata": {
    "collapsed": false
   }
  },
  {
   "cell_type": "code",
   "execution_count": 120,
   "outputs": [
    {
     "name": "stderr",
     "output_type": "stream",
     "text": [
      "C:\\Users\\JDD\\AppData\\Local\\Temp\\ipykernel_18148\\4160799696.py:2: FutureWarning: The default value of numeric_only in DataFrameGroupBy.var is deprecated. In a future version, numeric_only will default to False. Either specify numeric_only or select only columns which should be valid for the function.\n",
      "  Temp_point_no_groups_v = Temp_point_no_groups.var()\n"
     ]
    },
    {
     "data": {
      "text/plain": "                    temperature\npoint_no                       \n001de4feff8d79e0-S     3.724554\n01c476feff958edc-S     2.758735\n021de4feff8d79e0-S    10.183343\n02b6cffeff8d79e0-S     1.672623\n0338e4feff8d79e0-S     6.588946\n...                         ...\nff19e4feff8d79e0-S    14.337256\nff48e2feff8d79e0-S     0.520073\nff5ae2feff8d79e0-S    13.860226\nffbdcffeff8d79e0-S     5.876250\nffc476feff958edc-S     9.780706\n\n[494 rows x 1 columns]",
      "text/html": "<div>\n<style scoped>\n    .dataframe tbody tr th:only-of-type {\n        vertical-align: middle;\n    }\n\n    .dataframe tbody tr th {\n        vertical-align: top;\n    }\n\n    .dataframe thead th {\n        text-align: right;\n    }\n</style>\n<table border=\"1\" class=\"dataframe\">\n  <thead>\n    <tr style=\"text-align: right;\">\n      <th></th>\n      <th>temperature</th>\n    </tr>\n    <tr>\n      <th>point_no</th>\n      <th></th>\n    </tr>\n  </thead>\n  <tbody>\n    <tr>\n      <th>001de4feff8d79e0-S</th>\n      <td>3.724554</td>\n    </tr>\n    <tr>\n      <th>01c476feff958edc-S</th>\n      <td>2.758735</td>\n    </tr>\n    <tr>\n      <th>021de4feff8d79e0-S</th>\n      <td>10.183343</td>\n    </tr>\n    <tr>\n      <th>02b6cffeff8d79e0-S</th>\n      <td>1.672623</td>\n    </tr>\n    <tr>\n      <th>0338e4feff8d79e0-S</th>\n      <td>6.588946</td>\n    </tr>\n    <tr>\n      <th>...</th>\n      <td>...</td>\n    </tr>\n    <tr>\n      <th>ff19e4feff8d79e0-S</th>\n      <td>14.337256</td>\n    </tr>\n    <tr>\n      <th>ff48e2feff8d79e0-S</th>\n      <td>0.520073</td>\n    </tr>\n    <tr>\n      <th>ff5ae2feff8d79e0-S</th>\n      <td>13.860226</td>\n    </tr>\n    <tr>\n      <th>ffbdcffeff8d79e0-S</th>\n      <td>5.876250</td>\n    </tr>\n    <tr>\n      <th>ffc476feff958edc-S</th>\n      <td>9.780706</td>\n    </tr>\n  </tbody>\n</table>\n<p>494 rows × 1 columns</p>\n</div>"
     },
     "execution_count": 120,
     "metadata": {},
     "output_type": "execute_result"
    }
   ],
   "source": [
    "## 每组方差\n",
    "Temp_point_no_groups_v = Temp_point_no_groups.var()\n",
    "Temp_point_no_groups_v"
   ],
   "metadata": {
    "collapsed": false
   }
  },
  {
   "cell_type": "code",
   "execution_count": 150,
   "outputs": [
    {
     "data": {
      "text/plain": "dtype('<M8[ns]')"
     },
     "execution_count": 150,
     "metadata": {},
     "output_type": "execute_result"
    }
   ],
   "source": [
    "group = Temp_point_no_groups.get_group(\"50294D205151051\")\n",
    "group = group.sort_values(by='ts')\n",
    "group.ts.dtypes"
   ],
   "metadata": {
    "collapsed": false
   }
  },
  {
   "cell_type": "code",
   "execution_count": 165,
   "outputs": [
    {
     "data": {
      "text/plain": "pandas.core.series.Series"
     },
     "execution_count": 165,
     "metadata": {},
     "output_type": "execute_result"
    }
   ],
   "source": [
    "# 数据传参，异常分析\n",
    "# 重新设置索引，转为numpy格式\n",
    "GroupTemperture = group.temperature.reset_index(drop = True)\n",
    "GroupTS = group.ts.reset_index(drop = True)\n",
    "type(GroupTemperture)"
   ],
   "metadata": {
    "collapsed": false
   }
  },
  {
   "cell_type": "markdown",
   "source": [
    "## 1、滑动窗口的3-sigma"
   ],
   "metadata": {
    "collapsed": false
   }
  },
  {
   "cell_type": "code",
   "execution_count": 192,
   "outputs": [],
   "source": [
    "def three_sigma(win, t, a, ts):\n",
    "    \"\"\"\n",
    "    滑动窗口的3-sigma\n",
    "    :param win: windows，窗口大小\n",
    "    :param t: 3-sigma ,t = 3\n",
    "    :param a: 数值序列 pandas.core.series.Series\n",
    "    :param ts: 时间序列 pandas.core.series.Series\n",
    "    :return: x,y 异常点位置与数值\n",
    "    \"\"\"\n",
    "    # 定义窗口大小和阈值\n",
    "    window_size = win\n",
    "    threshold = t\n",
    "\n",
    "    # 检测异常值和突变\n",
    "    anomalies = []\n",
    "    for i in range(0,len(a) - window_size + 1):\n",
    "        window = a[i:i+window_size]\n",
    "        mean_w = np.mean(window)\n",
    "        std_w = np.std(window)\n",
    "        for j in range(window_size):\n",
    "            if abs(window[j+i] - mean_w) > threshold * std_w:\n",
    "                anomalies.append(i+j)\n",
    "                # break\n",
    "\n",
    "    # 显示异常点\n",
    "    x = ts[anomalies]\n",
    "    y = a[anomalies]\n",
    "\n",
    "    # 可视化结果\n",
    "    plt.rcParams['font.sans-serif'] = 'Simhei' # 显示中文\n",
    "    plt.figure(figsize=(16,10),dpi=150)\n",
    "    plt.scatter(x, y ,edgecolors='b')\n",
    "    plt.plot(ts,a)\n",
    "    # plt.xticks(ts.values[::1000]) # 坐标轴每隔1000取一个\n",
    "    plt.gcf().autofmt_xdate() # 自适应X坐标\n",
    "    plt.xlabel('时间')\n",
    "    plt.ylabel('数值')\n",
    "    plt.show()\n",
    "\n",
    "    return x,y\n"
   ],
   "metadata": {
    "collapsed": false
   }
  },
  {
   "cell_type": "markdown",
   "source": [
    "## 2、滑动窗口的箱线图"
   ],
   "metadata": {
    "collapsed": false
   }
  },
  {
   "cell_type": "code",
   "execution_count": 193,
   "outputs": [],
   "source": [
    "def sliding_boxplot(win, t, a, ts):\n",
    "    \"\"\"\n",
    "    滑动窗口的箱线图\n",
    "    :param win: windows，窗口大小\n",
    "    :param t: 阈值大小，阈值乘以IQR得到下边界(lower_bound)和上边界(upper_bound)\n",
    "    :param a: 数值序列 pandas.core.series.Series\n",
    "    :param ts: 时间序列 pandas.core.series.Series\n",
    "    :return: x,y 异常点位置与数值\n",
    "    \"\"\"\n",
    "    # 定义窗口大小和阈值\n",
    "    window_size = win\n",
    "    threshold = t\n",
    "\n",
    "    # 检测异常值和突变\n",
    "    anomalies = []\n",
    "    for i in range(0, len(a) - window_size + 1):\n",
    "        window = a[i:i + window_size]\n",
    "        q1, q3 = np.percentile(window, [25, 75])\n",
    "        iqr = q3 - q1\n",
    "        lower_bound = q1 - threshold * iqr\n",
    "        upper_bound = q3 + threshold * iqr\n",
    "        for j in range(window_size):\n",
    "            if window[j+i] < lower_bound or window[j+i] > upper_bound:\n",
    "                anomalies.append(i + j)\n",
    "                # break\n",
    "\n",
    "    # 显示异常点\n",
    "    x = ts[anomalies]\n",
    "    y = a[anomalies]\n",
    "\n",
    "    # 可视化结果\n",
    "    plt.rcParams['font.sans-serif'] = 'Simhei'  # 显示中文\n",
    "    plt.figure(figsize=(16, 10), dpi=150)\n",
    "    plt.scatter(x, y, edgecolors='b')\n",
    "    plt.plot(ts, a)\n",
    "    plt.gcf().autofmt_xdate()  # 自适应X坐标\n",
    "    plt.xlabel('时间')\n",
    "    plt.ylabel('数值')\n",
    "    plt.show()\n",
    "\n",
    "    return x,y\n",
    "\n",
    "# 使用滑动窗口来检测异常值和突变。对于每个窗口，我们首先计算第一四分位数(q1)和第三四分位数(q3)，\n",
    "# 然后计算IQR(q3 - q1)，最后将阈值乘以IQR得到下边界(lower_bound)和上边界(upper_bound)。\n",
    "# 如果窗口中的任何一个值小于lower_bound或大于upper_bound，则认为该窗口存在异常点。\n",
    "# 在这里，我们使用np.quantile函数计算四分位数，因为它比传统的np.percentile函数更快。"
   ],
   "metadata": {
    "collapsed": false
   }
  },
  {
   "cell_type": "code",
   "execution_count": 196,
   "outputs": [
    {
     "ename": "KeyboardInterrupt",
     "evalue": "",
     "output_type": "error",
     "traceback": [
      "\u001B[1;31m---------------------------------------------------------------------------\u001B[0m",
      "\u001B[1;31mKeyboardInterrupt\u001B[0m                         Traceback (most recent call last)",
      "Cell \u001B[1;32mIn[196], line 2\u001B[0m\n\u001B[0;32m      1\u001B[0m \u001B[38;5;66;03m# three_sigma(len(GroupTemperture),3,GroupTemperture,GroupTS)\u001B[39;00m\n\u001B[1;32m----> 2\u001B[0m \u001B[43msliding_boxplot\u001B[49m\u001B[43m(\u001B[49m\u001B[38;5;28;43mlen\u001B[39;49m\u001B[43m(\u001B[49m\u001B[43mGroupTemperture\u001B[49m\u001B[43m)\u001B[49m\u001B[38;5;241;43m/\u001B[39;49m\u001B[38;5;241;43m/\u001B[39;49m\u001B[38;5;241;43m5\u001B[39;49m\u001B[43m,\u001B[49m\u001B[38;5;241;43m3\u001B[39;49m\u001B[43m,\u001B[49m\u001B[43mGroupTemperture\u001B[49m\u001B[43m,\u001B[49m\u001B[43mGroupTS\u001B[49m\u001B[43m)\u001B[49m\n",
      "Cell \u001B[1;32mIn[193], line 18\u001B[0m, in \u001B[0;36msliding_boxplot\u001B[1;34m(win, t, a, ts)\u001B[0m\n\u001B[0;32m     16\u001B[0m \u001B[38;5;28;01mfor\u001B[39;00m i \u001B[38;5;129;01min\u001B[39;00m \u001B[38;5;28mrange\u001B[39m(\u001B[38;5;241m0\u001B[39m, \u001B[38;5;28mlen\u001B[39m(a) \u001B[38;5;241m-\u001B[39m window_size \u001B[38;5;241m+\u001B[39m \u001B[38;5;241m1\u001B[39m):\n\u001B[0;32m     17\u001B[0m     window \u001B[38;5;241m=\u001B[39m a[i:i \u001B[38;5;241m+\u001B[39m window_size]\n\u001B[1;32m---> 18\u001B[0m     q1, q3 \u001B[38;5;241m=\u001B[39m \u001B[43mnp\u001B[49m\u001B[38;5;241;43m.\u001B[39;49m\u001B[43mpercentile\u001B[49m\u001B[43m(\u001B[49m\u001B[43mwindow\u001B[49m\u001B[43m,\u001B[49m\u001B[43m \u001B[49m\u001B[43m[\u001B[49m\u001B[38;5;241;43m25\u001B[39;49m\u001B[43m,\u001B[49m\u001B[43m \u001B[49m\u001B[38;5;241;43m75\u001B[39;49m\u001B[43m]\u001B[49m\u001B[43m)\u001B[49m\n\u001B[0;32m     19\u001B[0m     iqr \u001B[38;5;241m=\u001B[39m q3 \u001B[38;5;241m-\u001B[39m q1\n\u001B[0;32m     20\u001B[0m     lower_bound \u001B[38;5;241m=\u001B[39m q1 \u001B[38;5;241m-\u001B[39m threshold \u001B[38;5;241m*\u001B[39m iqr\n",
      "File \u001B[1;32m<__array_function__ internals>:180\u001B[0m, in \u001B[0;36mpercentile\u001B[1;34m(*args, **kwargs)\u001B[0m\n",
      "File \u001B[1;32mD:\\Anaconda\\anaconda\\envs\\data\\lib\\site-packages\\numpy\\lib\\function_base.py:4166\u001B[0m, in \u001B[0;36mpercentile\u001B[1;34m(a, q, axis, out, overwrite_input, method, keepdims, interpolation)\u001B[0m\n\u001B[0;32m   4164\u001B[0m \u001B[38;5;28;01mif\u001B[39;00m \u001B[38;5;129;01mnot\u001B[39;00m _quantile_is_valid(q):\n\u001B[0;32m   4165\u001B[0m     \u001B[38;5;28;01mraise\u001B[39;00m \u001B[38;5;167;01mValueError\u001B[39;00m(\u001B[38;5;124m\"\u001B[39m\u001B[38;5;124mPercentiles must be in the range [0, 100]\u001B[39m\u001B[38;5;124m\"\u001B[39m)\n\u001B[1;32m-> 4166\u001B[0m \u001B[38;5;28;01mreturn\u001B[39;00m \u001B[43m_quantile_unchecked\u001B[49m\u001B[43m(\u001B[49m\n\u001B[0;32m   4167\u001B[0m \u001B[43m    \u001B[49m\u001B[43ma\u001B[49m\u001B[43m,\u001B[49m\u001B[43m \u001B[49m\u001B[43mq\u001B[49m\u001B[43m,\u001B[49m\u001B[43m \u001B[49m\u001B[43maxis\u001B[49m\u001B[43m,\u001B[49m\u001B[43m \u001B[49m\u001B[43mout\u001B[49m\u001B[43m,\u001B[49m\u001B[43m \u001B[49m\u001B[43moverwrite_input\u001B[49m\u001B[43m,\u001B[49m\u001B[43m \u001B[49m\u001B[43mmethod\u001B[49m\u001B[43m,\u001B[49m\u001B[43m \u001B[49m\u001B[43mkeepdims\u001B[49m\u001B[43m)\u001B[49m\n",
      "File \u001B[1;32mD:\\Anaconda\\anaconda\\envs\\data\\lib\\site-packages\\numpy\\lib\\function_base.py:4424\u001B[0m, in \u001B[0;36m_quantile_unchecked\u001B[1;34m(a, q, axis, out, overwrite_input, method, keepdims)\u001B[0m\n\u001B[0;32m   4416\u001B[0m \u001B[38;5;28;01mdef\u001B[39;00m \u001B[38;5;21m_quantile_unchecked\u001B[39m(a,\n\u001B[0;32m   4417\u001B[0m                         q,\n\u001B[0;32m   4418\u001B[0m                         axis\u001B[38;5;241m=\u001B[39m\u001B[38;5;28;01mNone\u001B[39;00m,\n\u001B[1;32m   (...)\u001B[0m\n\u001B[0;32m   4421\u001B[0m                         method\u001B[38;5;241m=\u001B[39m\u001B[38;5;124m\"\u001B[39m\u001B[38;5;124mlinear\u001B[39m\u001B[38;5;124m\"\u001B[39m,\n\u001B[0;32m   4422\u001B[0m                         keepdims\u001B[38;5;241m=\u001B[39m\u001B[38;5;28;01mFalse\u001B[39;00m):\n\u001B[0;32m   4423\u001B[0m     \u001B[38;5;124;03m\"\"\"Assumes that q is in [0, 1], and is an ndarray\"\"\"\u001B[39;00m\n\u001B[1;32m-> 4424\u001B[0m     r, k \u001B[38;5;241m=\u001B[39m \u001B[43m_ureduce\u001B[49m\u001B[43m(\u001B[49m\u001B[43ma\u001B[49m\u001B[43m,\u001B[49m\n\u001B[0;32m   4425\u001B[0m \u001B[43m                    \u001B[49m\u001B[43mfunc\u001B[49m\u001B[38;5;241;43m=\u001B[39;49m\u001B[43m_quantile_ureduce_func\u001B[49m\u001B[43m,\u001B[49m\n\u001B[0;32m   4426\u001B[0m \u001B[43m                    \u001B[49m\u001B[43mq\u001B[49m\u001B[38;5;241;43m=\u001B[39;49m\u001B[43mq\u001B[49m\u001B[43m,\u001B[49m\n\u001B[0;32m   4427\u001B[0m \u001B[43m                    \u001B[49m\u001B[43maxis\u001B[49m\u001B[38;5;241;43m=\u001B[39;49m\u001B[43maxis\u001B[49m\u001B[43m,\u001B[49m\n\u001B[0;32m   4428\u001B[0m \u001B[43m                    \u001B[49m\u001B[43mout\u001B[49m\u001B[38;5;241;43m=\u001B[39;49m\u001B[43mout\u001B[49m\u001B[43m,\u001B[49m\n\u001B[0;32m   4429\u001B[0m \u001B[43m                    \u001B[49m\u001B[43moverwrite_input\u001B[49m\u001B[38;5;241;43m=\u001B[39;49m\u001B[43moverwrite_input\u001B[49m\u001B[43m,\u001B[49m\n\u001B[0;32m   4430\u001B[0m \u001B[43m                    \u001B[49m\u001B[43mmethod\u001B[49m\u001B[38;5;241;43m=\u001B[39;49m\u001B[43mmethod\u001B[49m\u001B[43m)\u001B[49m\n\u001B[0;32m   4431\u001B[0m     \u001B[38;5;28;01mif\u001B[39;00m keepdims:\n\u001B[0;32m   4432\u001B[0m         \u001B[38;5;28;01mreturn\u001B[39;00m r\u001B[38;5;241m.\u001B[39mreshape(q\u001B[38;5;241m.\u001B[39mshape \u001B[38;5;241m+\u001B[39m k)\n",
      "File \u001B[1;32mD:\\Anaconda\\anaconda\\envs\\data\\lib\\site-packages\\numpy\\lib\\function_base.py:3725\u001B[0m, in \u001B[0;36m_ureduce\u001B[1;34m(a, func, **kwargs)\u001B[0m\n\u001B[0;32m   3722\u001B[0m \u001B[38;5;28;01melse\u001B[39;00m:\n\u001B[0;32m   3723\u001B[0m     keepdim \u001B[38;5;241m=\u001B[39m (\u001B[38;5;241m1\u001B[39m,) \u001B[38;5;241m*\u001B[39m a\u001B[38;5;241m.\u001B[39mndim\n\u001B[1;32m-> 3725\u001B[0m r \u001B[38;5;241m=\u001B[39m func(a, \u001B[38;5;241m*\u001B[39m\u001B[38;5;241m*\u001B[39mkwargs)\n\u001B[0;32m   3726\u001B[0m \u001B[38;5;28;01mreturn\u001B[39;00m r, keepdim\n",
      "File \u001B[1;32mD:\\Anaconda\\anaconda\\envs\\data\\lib\\site-packages\\numpy\\lib\\function_base.py:4593\u001B[0m, in \u001B[0;36m_quantile_ureduce_func\u001B[1;34m(a, q, axis, out, overwrite_input, method)\u001B[0m\n\u001B[0;32m   4591\u001B[0m     \u001B[38;5;28;01melse\u001B[39;00m:\n\u001B[0;32m   4592\u001B[0m         arr \u001B[38;5;241m=\u001B[39m a\u001B[38;5;241m.\u001B[39mcopy()\n\u001B[1;32m-> 4593\u001B[0m result \u001B[38;5;241m=\u001B[39m \u001B[43m_quantile\u001B[49m\u001B[43m(\u001B[49m\u001B[43marr\u001B[49m\u001B[43m,\u001B[49m\n\u001B[0;32m   4594\u001B[0m \u001B[43m                   \u001B[49m\u001B[43mquantiles\u001B[49m\u001B[38;5;241;43m=\u001B[39;49m\u001B[43mq\u001B[49m\u001B[43m,\u001B[49m\n\u001B[0;32m   4595\u001B[0m \u001B[43m                   \u001B[49m\u001B[43maxis\u001B[49m\u001B[38;5;241;43m=\u001B[39;49m\u001B[43maxis\u001B[49m\u001B[43m,\u001B[49m\n\u001B[0;32m   4596\u001B[0m \u001B[43m                   \u001B[49m\u001B[43mmethod\u001B[49m\u001B[38;5;241;43m=\u001B[39;49m\u001B[43mmethod\u001B[49m\u001B[43m,\u001B[49m\n\u001B[0;32m   4597\u001B[0m \u001B[43m                   \u001B[49m\u001B[43mout\u001B[49m\u001B[38;5;241;43m=\u001B[39;49m\u001B[43mout\u001B[49m\u001B[43m)\u001B[49m\n\u001B[0;32m   4598\u001B[0m \u001B[38;5;28;01mreturn\u001B[39;00m result\n",
      "File \u001B[1;32mD:\\Anaconda\\anaconda\\envs\\data\\lib\\site-packages\\numpy\\lib\\function_base.py:4691\u001B[0m, in \u001B[0;36m_quantile\u001B[1;34m(arr, quantiles, axis, method, out)\u001B[0m\n\u001B[0;32m   4687\u001B[0m previous_indexes, next_indexes \u001B[38;5;241m=\u001B[39m _get_indexes(arr,\n\u001B[0;32m   4688\u001B[0m                                               virtual_indexes,\n\u001B[0;32m   4689\u001B[0m                                               values_count)\n\u001B[0;32m   4690\u001B[0m \u001B[38;5;66;03m# --- Sorting\u001B[39;00m\n\u001B[1;32m-> 4691\u001B[0m \u001B[43marr\u001B[49m\u001B[38;5;241;43m.\u001B[39;49m\u001B[43mpartition\u001B[49m\u001B[43m(\u001B[49m\n\u001B[0;32m   4692\u001B[0m \u001B[43m    \u001B[49m\u001B[43mnp\u001B[49m\u001B[38;5;241;43m.\u001B[39;49m\u001B[43munique\u001B[49m\u001B[43m(\u001B[49m\u001B[43mnp\u001B[49m\u001B[38;5;241;43m.\u001B[39;49m\u001B[43mconcatenate\u001B[49m\u001B[43m(\u001B[49m\u001B[43m(\u001B[49m\u001B[43m[\u001B[49m\u001B[38;5;241;43m0\u001B[39;49m\u001B[43m,\u001B[49m\u001B[43m \u001B[49m\u001B[38;5;241;43m-\u001B[39;49m\u001B[38;5;241;43m1\u001B[39;49m\u001B[43m]\u001B[49m\u001B[43m,\u001B[49m\n\u001B[0;32m   4693\u001B[0m \u001B[43m                              \u001B[49m\u001B[43mprevious_indexes\u001B[49m\u001B[38;5;241;43m.\u001B[39;49m\u001B[43mravel\u001B[49m\u001B[43m(\u001B[49m\u001B[43m)\u001B[49m\u001B[43m,\u001B[49m\n\u001B[0;32m   4694\u001B[0m \u001B[43m                              \u001B[49m\u001B[43mnext_indexes\u001B[49m\u001B[38;5;241;43m.\u001B[39;49m\u001B[43mravel\u001B[49m\u001B[43m(\u001B[49m\u001B[43m)\u001B[49m\u001B[43m,\u001B[49m\n\u001B[0;32m   4695\u001B[0m \u001B[43m                              \u001B[49m\u001B[43m)\u001B[49m\u001B[43m)\u001B[49m\u001B[43m)\u001B[49m\u001B[43m,\u001B[49m\n\u001B[0;32m   4696\u001B[0m \u001B[43m    \u001B[49m\u001B[43maxis\u001B[49m\u001B[38;5;241;43m=\u001B[39;49m\u001B[43mDATA_AXIS\u001B[49m\u001B[43m)\u001B[49m\n\u001B[0;32m   4697\u001B[0m \u001B[38;5;28;01mif\u001B[39;00m np\u001B[38;5;241m.\u001B[39missubdtype(arr\u001B[38;5;241m.\u001B[39mdtype, np\u001B[38;5;241m.\u001B[39minexact):\n\u001B[0;32m   4698\u001B[0m     slices_having_nans \u001B[38;5;241m=\u001B[39m np\u001B[38;5;241m.\u001B[39misnan(\n\u001B[0;32m   4699\u001B[0m         take(arr, indices\u001B[38;5;241m=\u001B[39m\u001B[38;5;241m-\u001B[39m\u001B[38;5;241m1\u001B[39m, axis\u001B[38;5;241m=\u001B[39mDATA_AXIS)\n\u001B[0;32m   4700\u001B[0m     )\n",
      "\u001B[1;31mKeyboardInterrupt\u001B[0m: "
     ]
    }
   ],
   "source": [
    "# three_sigma(len(GroupTemperture),3,GroupTemperture,GroupTS)\n",
    "sliding_boxplot(len(GroupTemperture)//5,3,GroupTemperture,GroupTS)"
   ],
   "metadata": {
    "collapsed": false
   }
  },
  {
   "cell_type": "code",
   "execution_count": null,
   "outputs": [],
   "source": [
    "#分析Temp第一个测点的温度：\n",
    "plt.figure(figsize=(16,10),dpi=150)\n",
    "plt.rcParams['font.sans-serif'] = 'Simhei'\n",
    "plt.ylabel('温度')\n",
    "plt.xlabel('时间')\n",
    "plt.plot(group['ts'],group['temperature'],label =\"001de4feff8d79e0-S\" )#\n",
    "#Num_Mean() #平均值方法\n",
    "# Num_Windows()\n",
    "#plt.title(str0.join('%s' %a for a in Name[0][:5])+' 折线图')\n",
    "plt.legend()\n",
    "#plt.savefig('折线图.jpg')"
   ],
   "metadata": {
    "collapsed": false
   }
  },
  {
   "cell_type": "code",
   "execution_count": null,
   "outputs": [],
   "source": [
    "data\n",
    "# 提取数据 temperature\n"
   ],
   "metadata": {
    "collapsed": false
   }
  },
  {
   "cell_type": "markdown",
   "source": [
    "## 绘集合图"
   ],
   "metadata": {
    "collapsed": false
   }
  },
  {
   "cell_type": "code",
   "execution_count": null,
   "outputs": [],
   "source": [
    "from venn import venn\n",
    "\n",
    "musicians = {\n",
    "    \"temperture\": T,\n",
    "    \"X\": X,\n",
    "    \"Y and Z\": ZY\n",
    "}\n",
    "venn(musicians, fmt=\"{percentage:.1f}%\")"
   ],
   "metadata": {
    "collapsed": false
   }
  },
  {
   "cell_type": "code",
   "execution_count": null,
   "outputs": [],
   "source": [],
   "metadata": {
    "collapsed": false
   }
  }
 ],
 "metadata": {
  "kernelspec": {
   "display_name": "Python 3",
   "language": "python",
   "name": "python3"
  },
  "language_info": {
   "codemirror_mode": {
    "name": "ipython",
    "version": 2
   },
   "file_extension": ".py",
   "mimetype": "text/x-python",
   "name": "python",
   "nbconvert_exporter": "python",
   "pygments_lexer": "ipython2",
   "version": "2.7.6"
  }
 },
 "nbformat": 4,
 "nbformat_minor": 0
}
